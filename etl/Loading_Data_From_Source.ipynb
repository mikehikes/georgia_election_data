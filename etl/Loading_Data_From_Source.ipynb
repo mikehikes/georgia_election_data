{
 "cells": [
  {
   "cell_type": "markdown",
   "metadata": {},
   "source": [
    "## Processing the Source Data\n",
    "\n",
    "### Prerequisites\n",
    "1. Python >= 3.6 (+ tqdm)\n",
    "2. Tested only on a bash command environment\n",
    "3. A few GB of available space\n",
    "4. XX memory\n",
    "5. git\n",
    "\n",
    "### Options for acquiring the source data\n",
    "\n",
    "Option 1: Download directly from the State of Georgia Secretary of State Web Site (See Option 1 code)\n",
    "Option 2: Download from a compiled list of files in the GitHub repository"
   ]
  },
  {
   "cell_type": "code",
   "execution_count": 7,
   "metadata": {},
   "outputs": [],
   "source": [
    "import tqdm\n",
    "import zipfile"
   ]
  },
  {
   "cell_type": "markdown",
   "metadata": {},
   "source": [
    "### Option 1: Downloading from the source\n",
    "\n",
    "#### 2013-2019\n",
    "Step 1: Go to https://elections.sos.ga.gov/Elections/voterhistory.do\n",
    "Step 2: Select the election year, and then download the `Full Year File`\n",
    "Step 3: Download each of the ZIP files into a folder accessible to your Python instance\n",
    "\n",
    "#### 1996-2012\n",
    "Step 1: Go to https://elections.sos.ga.gov/Elections/voterhistoryprevious.do\n",
    "Step 2: Download each year's zip file into a folder accessible to your Python instance"
   ]
  },
  {
   "cell_type": "markdown",
   "metadata": {},
   "source": [
    "### Option 2: Cloning the repo with the source data\n",
    "\n",
    "If you haven't done so already, the following command should clone the repo into the directory in which this notebook is located. If you've done this already, don't run this command again."
   ]
  },
  {
   "cell_type": "code",
   "execution_count": null,
   "metadata": {},
   "outputs": [],
   "source": [
    "!git clone https://github.com/solidgose/ga_elect.git"
   ]
  },
  {
   "cell_type": "markdown",
   "metadata": {},
   "source": [
    "Let's confirm that one of these options were completed successfully. "
   ]
  },
  {
   "cell_type": "code",
   "execution_count": 2,
   "metadata": {},
   "outputs": [
    {
     "name": "stdout",
     "output_type": "stream",
     "text": [
      "[1996, 1997, 1998, 1999, 2000, 2001, 2002, 2003, 2004, 2005, 2006, 2007, 2008, 2009, 2010, 2011, 2012, 2013, 2014, 2015, 2016, 2017, 2018, 2019]\n"
     ]
    }
   ],
   "source": [
    "###\n",
    "# Change the following variable to 1 for Option 1 and Option 2 for Option 2\n",
    "###\n",
    "option_select = 1\n",
    "\n",
    "###\n",
    "# If option 1, change to the location where you downloaded the ZIP files\n",
    "###\n",
    "zip_file_download_loc = '/home/michaelhandelman/ga_election/'\n",
    "\n",
    "###\n",
    "# If option 2, change to the root folder where the repo was cloned\n",
    "###\n",
    "repo_root_loc = '/home/michaelhandelman/ga_elect/ga_elect_code'\n",
    "\n",
    "# file range\n",
    "file_year_range = list(range(1996,2020))\n",
    "\n",
    "print(file_year_range)\n",
    "\n",
    "    "
   ]
  },
  {
   "cell_type": "code",
   "execution_count": null,
   "metadata": {},
   "outputs": [],
   "source": [
    "## function to prepare zip files for extraction"
   ]
  },
  {
   "cell_type": "code",
   "execution_count": 3,
   "metadata": {},
   "outputs": [],
   "source": [
    "def parse_function_2012_prior(in_line):\n",
    "  \n",
    "    # fix dates\n",
    "    # fix part, absentee\n",
    "\n",
    "    return{\n",
    "      \n",
    "    \"county_no\": \"\\\"\" + in_line[0:3] + \"\\\"\",\n",
    "    \"reg_no\": \"\\\"\" + in_line[3:11] + \"\\\"\",\n",
    "    \"election_date\": \"\\\"\" + in_line[11:19] + \"\\\"\",\n",
    "    \"election_type\": \"\\\"\" +  in_line[19:22] + \"\\\"\",\n",
    "    \"party\": \"\\\"\" +  in_line[22:23] + \"\\\"\",\n",
    "    \"absentee\": \"\\\"\" +  in_line[23:24]  + \"\\\"\"\n",
    "  }"
   ]
  },
  {
   "cell_type": "code",
   "execution_count": null,
   "metadata": {},
   "outputs": [],
   "source": [
    "def parse_function_2013_post(in_line):\n",
    "    \n",
    "    # fix dates\n",
    "    # fix party, absentee, provisional, supplemental\n",
    "    \n",
    "  return {\n",
    "    \"county_no\": \"\\\"\" + in_line[0:3] + \"\\\"\",\n",
    "    \"reg_no\": \"\\\"\" + in_line[3:11]+ \"\\\"\",\n",
    "    \"election_date\": \"\\\"\" + in_line[11:19]+ \"\\\"\",\n",
    "    \"election_type\": \"\\\"\" + in_line[19:22]+ \"\\\"\",\n",
    "    \"party\": \"\\\"\" + in_line[22:24]+ \"\\\"\",\n",
    "    \"absentee\": \"\\\"\" + in_line[24:25]+ \"\\\"\",\n",
    "    \"provisional\": \"\\\"\" + in_line[25:26]+ \"\\\"\",\n",
    "    \"supplemental\": \"\\\"\" + in_line[26:27]+ \"\\\"\"\n",
    "  }"
   ]
  },
  {
   "cell_type": "code",
   "execution_count": null,
   "metadata": {},
   "outputs": [],
   "source": [
    "Fix"
   ]
  },
  {
   "cell_type": "code",
   "execution_count": null,
   "metadata": {},
   "outputs": [],
   "source": [
    "# divide into 8 parts"
   ]
  },
  {
   "cell_type": "code",
   "execution_count": null,
   "metadata": {},
   "outputs": [],
   "source": [
    "# select output folder"
   ]
  },
  {
   "cell_type": "code",
   "execution_count": null,
   "metadata": {},
   "outputs": [],
   "source": [
    "# save into output folder"
   ]
  }
 ],
 "metadata": {
  "kernelspec": {
   "display_name": "Python [conda env:env3] *",
   "language": "python",
   "name": "conda-env-env3-py"
  },
  "language_info": {
   "codemirror_mode": {
    "name": "ipython",
    "version": 3
   },
   "file_extension": ".py",
   "mimetype": "text/x-python",
   "name": "python",
   "nbconvert_exporter": "python",
   "pygments_lexer": "ipython3",
   "version": "3.7.3"
  }
 },
 "nbformat": 4,
 "nbformat_minor": 2
}
