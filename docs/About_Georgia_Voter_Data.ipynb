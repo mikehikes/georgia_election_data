{
 "cells": [
  {
   "cell_type": "markdown",
   "metadata": {},
   "source": [
    "## About the Georgia Voter Database\n",
    "\n",
    "The State of Georgia's Secretary of State (SoS) Office provides a portal to download voter history data at https://elections.sos.ga.gov/Elections/voterhistory.do\n",
    "\n",
    "There are two data sources of voter data available: one source contains a record of every time an eligible Georgia citizen votes, using a sequential voter registration number as the unique identifier for the voter. The second source is a table that matches the name and other demographic characteristics (required by law) with the sequential voter registration number. The prior data table is provided without cost, but the second data table is only accessible through payment of a $250 fee.  \n",
    "\n",
    "The data accessible through the SoS web portal is provided from 1996 to the current time. \n",
    "\n",
    "This analysis will, for now, only review the first (non-cost) data source.\n",
    "\n",
    "This table contains the following data, presented as a fixed-column-width string, with each line delimited by a `\\n`:\n",
    "\n",
    "The following columns are observed in the data:\n",
    "\n",
    "1. Voter Registration Number\n",
    "2. The Date of the Voter's Recorded Vote\n",
    "3. A numeric code that indicates the type of election in which the voter participted (e.g., a primary, a general election, etc.)\n",
    "4. If the voter voted in an election with a partisan primary vote, a letter indicator if the voter chose to vote in the Democratic (D), Republican (R), or Non-Partisan (NP) primary. \n",
    "5. An indicator if the ballot submitted was an absentee ballot.\n",
    "6. For voting records from 2013 to present, an indicator if a ballot was provisional\n",
    "7. For voting records from 2013 to present, an indicator if a ballot was supplemental\n",
    "\n",
    "While the SoS web site indicates a single fixed-width schema for all data, there are in fact two schema: one for data prior to 2013, and one for data 2013 and onwards.\n"
   ]
  }
 ],
 "metadata": {
  "kernelspec": {
   "display_name": "Python 3",
   "language": "python",
   "name": "python3"
  },
  "language_info": {
   "codemirror_mode": {
    "name": "ipython",
    "version": 3
   },
   "file_extension": ".py",
   "mimetype": "text/x-python",
   "name": "python",
   "nbconvert_exporter": "python",
   "pygments_lexer": "ipython3",
   "version": "3.7.4"
  }
 },
 "nbformat": 4,
 "nbformat_minor": 2
}
